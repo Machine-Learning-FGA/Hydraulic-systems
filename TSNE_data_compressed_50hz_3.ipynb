{
 "cells": [
  {
   "cell_type": "code",
   "execution_count": 1,
   "metadata": {},
   "outputs": [],
   "source": [
    "import pandas as pd\n",
    "import numpy as np\n",
    "import matplotlib.pyplot as plt"
   ]
  },
  {
   "cell_type": "code",
   "execution_count": 3,
   "metadata": {},
   "outputs": [],
   "source": [
    "from scipy.cluster.hierarchy import linkage, dendrogram\n",
    "from scipy.cluster.hierarchy import fcluster"
   ]
  },
  {
   "cell_type": "code",
   "execution_count": 4,
   "metadata": {},
   "outputs": [],
   "source": [
    "from sklearn.cluster import KMeans\n",
    "from sklearn.manifold import TSNE"
   ]
  },
  {
   "cell_type": "code",
   "execution_count": 5,
   "metadata": {},
   "outputs": [],
   "source": [
    "def concat_list(lst):\n",
    "    new_df = {}\n",
    "    master_df = pd.DataFrame()\n",
    "    file_path = \"data_compressed_50hz/{}_normalized.csv\"\n",
    "    \n",
    "    for key in lst:\n",
    "        df = pd.read_table(file_path.format(key), header=None)\n",
    "        master_df = pd.concat([master_df, df], axis=1)\n",
    "    \n",
    "    return master_df"
   ]
  },
  {
   "cell_type": "code",
   "execution_count": 6,
   "metadata": {},
   "outputs": [],
   "source": [
    "CP_LIST =  ('CP',)\n",
    "CE_LIST =  ('CE',)"
   ]
  },
  {
   "cell_type": "code",
   "execution_count": 7,
   "metadata": {},
   "outputs": [],
   "source": [
    "cp_df = concat_list(CP_LIST)\n",
    "ce_df = concat_list(CE_LIST)"
   ]
  },
  {
   "cell_type": "code",
   "execution_count": 43,
   "metadata": {},
   "outputs": [
    {
     "data": {
      "text/html": [
       "<div>\n",
       "<style scoped>\n",
       "    .dataframe tbody tr th:only-of-type {\n",
       "        vertical-align: middle;\n",
       "    }\n",
       "\n",
       "    .dataframe tbody tr th {\n",
       "        vertical-align: top;\n",
       "    }\n",
       "\n",
       "    .dataframe thead th {\n",
       "        text-align: right;\n",
       "    }\n",
       "</style>\n",
       "<table border=\"1\" class=\"dataframe\">\n",
       "  <thead>\n",
       "    <tr style=\"text-align: right;\">\n",
       "      <th></th>\n",
       "      <th>0</th>\n",
       "      <th>1</th>\n",
       "      <th>2</th>\n",
       "      <th>3</th>\n",
       "      <th>4</th>\n",
       "      <th>5</th>\n",
       "      <th>6</th>\n",
       "      <th>7</th>\n",
       "      <th>8</th>\n",
       "      <th>9</th>\n",
       "      <th>...</th>\n",
       "      <th>50</th>\n",
       "      <th>51</th>\n",
       "      <th>52</th>\n",
       "      <th>53</th>\n",
       "      <th>54</th>\n",
       "      <th>55</th>\n",
       "      <th>56</th>\n",
       "      <th>57</th>\n",
       "      <th>58</th>\n",
       "      <th>59</th>\n",
       "    </tr>\n",
       "  </thead>\n",
       "  <tbody>\n",
       "    <tr>\n",
       "      <th>0</th>\n",
       "      <td>2.184</td>\n",
       "      <td>2.184</td>\n",
       "      <td>2.184</td>\n",
       "      <td>2.185</td>\n",
       "      <td>2.178</td>\n",
       "      <td>2.188</td>\n",
       "      <td>2.177</td>\n",
       "      <td>2.180</td>\n",
       "      <td>2.151</td>\n",
       "      <td>2.143</td>\n",
       "      <td>...</td>\n",
       "      <td>1.509</td>\n",
       "      <td>1.470</td>\n",
       "      <td>1.458</td>\n",
       "      <td>1.452</td>\n",
       "      <td>1.443</td>\n",
       "      <td>1.449</td>\n",
       "      <td>1.428</td>\n",
       "      <td>1.401</td>\n",
       "      <td>1.402</td>\n",
       "      <td>1.383</td>\n",
       "    </tr>\n",
       "    <tr>\n",
       "      <th>1</th>\n",
       "      <td>1.414</td>\n",
       "      <td>1.384</td>\n",
       "      <td>1.385</td>\n",
       "      <td>1.384</td>\n",
       "      <td>1.382</td>\n",
       "      <td>1.385</td>\n",
       "      <td>1.362</td>\n",
       "      <td>1.338</td>\n",
       "      <td>1.331</td>\n",
       "      <td>1.334</td>\n",
       "      <td>...</td>\n",
       "      <td>1.170</td>\n",
       "      <td>1.195</td>\n",
       "      <td>1.193</td>\n",
       "      <td>1.179</td>\n",
       "      <td>1.178</td>\n",
       "      <td>1.177</td>\n",
       "      <td>1.152</td>\n",
       "      <td>1.158</td>\n",
       "      <td>1.147</td>\n",
       "      <td>1.164</td>\n",
       "    </tr>\n",
       "    <tr>\n",
       "      <th>2</th>\n",
       "      <td>1.159</td>\n",
       "      <td>1.157</td>\n",
       "      <td>1.157</td>\n",
       "      <td>1.134</td>\n",
       "      <td>1.129</td>\n",
       "      <td>1.137</td>\n",
       "      <td>1.117</td>\n",
       "      <td>1.138</td>\n",
       "      <td>1.122</td>\n",
       "      <td>1.095</td>\n",
       "      <td>...</td>\n",
       "      <td>1.101</td>\n",
       "      <td>1.102</td>\n",
       "      <td>1.099</td>\n",
       "      <td>1.099</td>\n",
       "      <td>1.118</td>\n",
       "      <td>1.112</td>\n",
       "      <td>1.116</td>\n",
       "      <td>1.108</td>\n",
       "      <td>1.085</td>\n",
       "      <td>1.103</td>\n",
       "    </tr>\n",
       "    <tr>\n",
       "      <th>3</th>\n",
       "      <td>1.101</td>\n",
       "      <td>1.086</td>\n",
       "      <td>1.107</td>\n",
       "      <td>1.075</td>\n",
       "      <td>1.073</td>\n",
       "      <td>1.067</td>\n",
       "      <td>1.070</td>\n",
       "      <td>1.077</td>\n",
       "      <td>1.061</td>\n",
       "      <td>1.065</td>\n",
       "      <td>...</td>\n",
       "      <td>1.096</td>\n",
       "      <td>1.099</td>\n",
       "      <td>1.075</td>\n",
       "      <td>1.088</td>\n",
       "      <td>1.097</td>\n",
       "      <td>1.086</td>\n",
       "      <td>1.101</td>\n",
       "      <td>1.097</td>\n",
       "      <td>1.100</td>\n",
       "      <td>1.091</td>\n",
       "    </tr>\n",
       "    <tr>\n",
       "      <th>4</th>\n",
       "      <td>1.086</td>\n",
       "      <td>1.081</td>\n",
       "      <td>1.087</td>\n",
       "      <td>1.061</td>\n",
       "      <td>1.061</td>\n",
       "      <td>1.062</td>\n",
       "      <td>1.061</td>\n",
       "      <td>1.056</td>\n",
       "      <td>1.037</td>\n",
       "      <td>1.040</td>\n",
       "      <td>...</td>\n",
       "      <td>1.094</td>\n",
       "      <td>1.093</td>\n",
       "      <td>1.085</td>\n",
       "      <td>1.087</td>\n",
       "      <td>1.082</td>\n",
       "      <td>1.105</td>\n",
       "      <td>1.101</td>\n",
       "      <td>1.097</td>\n",
       "      <td>1.100</td>\n",
       "      <td>1.106</td>\n",
       "    </tr>\n",
       "  </tbody>\n",
       "</table>\n",
       "<p>5 rows × 60 columns</p>\n",
       "</div>"
      ],
      "text/plain": [
       "      0      1      2      3      4      5      6      7      8      9   \\\n",
       "0  2.184  2.184  2.184  2.185  2.178  2.188  2.177  2.180  2.151  2.143   \n",
       "1  1.414  1.384  1.385  1.384  1.382  1.385  1.362  1.338  1.331  1.334   \n",
       "2  1.159  1.157  1.157  1.134  1.129  1.137  1.117  1.138  1.122  1.095   \n",
       "3  1.101  1.086  1.107  1.075  1.073  1.067  1.070  1.077  1.061  1.065   \n",
       "4  1.086  1.081  1.087  1.061  1.061  1.062  1.061  1.056  1.037  1.040   \n",
       "\n",
       "   ...       50     51     52     53     54     55     56     57     58     59  \n",
       "0  ...    1.509  1.470  1.458  1.452  1.443  1.449  1.428  1.401  1.402  1.383  \n",
       "1  ...    1.170  1.195  1.193  1.179  1.178  1.177  1.152  1.158  1.147  1.164  \n",
       "2  ...    1.101  1.102  1.099  1.099  1.118  1.112  1.116  1.108  1.085  1.103  \n",
       "3  ...    1.096  1.099  1.075  1.088  1.097  1.086  1.101  1.097  1.100  1.091  \n",
       "4  ...    1.094  1.093  1.085  1.087  1.082  1.105  1.101  1.097  1.100  1.106  \n",
       "\n",
       "[5 rows x 60 columns]"
      ]
     },
     "execution_count": 43,
     "metadata": {},
     "output_type": "execute_result"
    }
   ],
   "source": [
    "cp_df.head()"
   ]
  },
  {
   "cell_type": "code",
   "execution_count": 12,
   "metadata": {},
   "outputs": [],
   "source": [
    "cp_model = KMeans(n_clusters=3)\n",
    "ce_model = KMeans(n_clusters=3)"
   ]
  },
  {
   "cell_type": "code",
   "execution_count": 35,
   "metadata": {},
   "outputs": [],
   "source": [
    "clusters = [\"Cluster 1\", \"Cluster 2\", \"Cluster 3\"]"
   ]
  },
  {
   "cell_type": "code",
   "execution_count": 13,
   "metadata": {},
   "outputs": [],
   "source": [
    "cp_labels = cp_model.fit_predict(cp_df)\n",
    "ce_labels = ce_model.fit_predict(ce_df)"
   ]
  },
  {
   "cell_type": "code",
   "execution_count": 36,
   "metadata": {},
   "outputs": [],
   "source": [
    "cp_clusters = [clusters[i] for i in cp_labels]\n",
    "ce_clusters = [clusters[i] for i in ce_labels]"
   ]
  },
  {
   "cell_type": "code",
   "execution_count": 37,
   "metadata": {},
   "outputs": [],
   "source": [
    "cp_tab_df = pd.DataFrame({'labels': cp_labels, 'clusters': cp_clusters})\n",
    "ce_tab_df = pd.DataFrame({'labels': ce_labels, 'clusters': ce_clusters})"
   ]
  },
  {
   "cell_type": "markdown",
   "metadata": {},
   "source": [
    "# Crosstab cooling power"
   ]
  },
  {
   "cell_type": "code",
   "execution_count": 38,
   "metadata": {},
   "outputs": [
    {
     "data": {
      "text/html": [
       "<div>\n",
       "<style scoped>\n",
       "    .dataframe tbody tr th:only-of-type {\n",
       "        vertical-align: middle;\n",
       "    }\n",
       "\n",
       "    .dataframe tbody tr th {\n",
       "        vertical-align: top;\n",
       "    }\n",
       "\n",
       "    .dataframe thead th {\n",
       "        text-align: right;\n",
       "    }\n",
       "</style>\n",
       "<table border=\"1\" class=\"dataframe\">\n",
       "  <thead>\n",
       "    <tr style=\"text-align: right;\">\n",
       "      <th>clusters</th>\n",
       "      <th>Cluster 1</th>\n",
       "      <th>Cluster 2</th>\n",
       "      <th>Cluster 3</th>\n",
       "    </tr>\n",
       "    <tr>\n",
       "      <th>labels</th>\n",
       "      <th></th>\n",
       "      <th></th>\n",
       "      <th></th>\n",
       "    </tr>\n",
       "  </thead>\n",
       "  <tbody>\n",
       "    <tr>\n",
       "      <th>0</th>\n",
       "      <td>736</td>\n",
       "      <td>0</td>\n",
       "      <td>0</td>\n",
       "    </tr>\n",
       "    <tr>\n",
       "      <th>1</th>\n",
       "      <td>0</td>\n",
       "      <td>749</td>\n",
       "      <td>0</td>\n",
       "    </tr>\n",
       "    <tr>\n",
       "      <th>2</th>\n",
       "      <td>0</td>\n",
       "      <td>0</td>\n",
       "      <td>720</td>\n",
       "    </tr>\n",
       "  </tbody>\n",
       "</table>\n",
       "</div>"
      ],
      "text/plain": [
       "clusters  Cluster 1  Cluster 2  Cluster 3\n",
       "labels                                   \n",
       "0               736          0          0\n",
       "1                 0        749          0\n",
       "2                 0          0        720"
      ]
     },
     "execution_count": 38,
     "metadata": {},
     "output_type": "execute_result"
    }
   ],
   "source": [
    "pd.crosstab(cp_tab_df['labels'], cp_tab_df['clusters'])"
   ]
  },
  {
   "cell_type": "markdown",
   "metadata": {},
   "source": [
    "# Crosstab cooling efficiency"
   ]
  },
  {
   "cell_type": "code",
   "execution_count": 39,
   "metadata": {},
   "outputs": [
    {
     "data": {
      "text/html": [
       "<div>\n",
       "<style scoped>\n",
       "    .dataframe tbody tr th:only-of-type {\n",
       "        vertical-align: middle;\n",
       "    }\n",
       "\n",
       "    .dataframe tbody tr th {\n",
       "        vertical-align: top;\n",
       "    }\n",
       "\n",
       "    .dataframe thead th {\n",
       "        text-align: right;\n",
       "    }\n",
       "</style>\n",
       "<table border=\"1\" class=\"dataframe\">\n",
       "  <thead>\n",
       "    <tr style=\"text-align: right;\">\n",
       "      <th>clusters</th>\n",
       "      <th>Cluster 1</th>\n",
       "      <th>Cluster 2</th>\n",
       "      <th>Cluster 3</th>\n",
       "    </tr>\n",
       "    <tr>\n",
       "      <th>labels</th>\n",
       "      <th></th>\n",
       "      <th></th>\n",
       "      <th></th>\n",
       "    </tr>\n",
       "  </thead>\n",
       "  <tbody>\n",
       "    <tr>\n",
       "      <th>0</th>\n",
       "      <td>733</td>\n",
       "      <td>0</td>\n",
       "      <td>0</td>\n",
       "    </tr>\n",
       "    <tr>\n",
       "      <th>1</th>\n",
       "      <td>0</td>\n",
       "      <td>741</td>\n",
       "      <td>0</td>\n",
       "    </tr>\n",
       "    <tr>\n",
       "      <th>2</th>\n",
       "      <td>0</td>\n",
       "      <td>0</td>\n",
       "      <td>731</td>\n",
       "    </tr>\n",
       "  </tbody>\n",
       "</table>\n",
       "</div>"
      ],
      "text/plain": [
       "clusters  Cluster 1  Cluster 2  Cluster 3\n",
       "labels                                   \n",
       "0               733          0          0\n",
       "1                 0        741          0\n",
       "2                 0          0        731"
      ]
     },
     "execution_count": 39,
     "metadata": {},
     "output_type": "execute_result"
    }
   ],
   "source": [
    "pd.crosstab(ce_tab_df['labels'], ce_tab_df['clusters'])"
   ]
  },
  {
   "cell_type": "markdown",
   "metadata": {},
   "source": [
    "# Crosstab pressure"
   ]
  },
  {
   "cell_type": "code",
   "execution_count": 50,
   "metadata": {},
   "outputs": [],
   "source": [
    "ps_model = KMeans(n_clusters=4)"
   ]
  },
  {
   "cell_type": "code",
   "execution_count": 51,
   "metadata": {},
   "outputs": [],
   "source": [
    "ps_df = concat_list(['PS1', 'PS2', 'PS3', 'PS4', 'PS5','PS6'])"
   ]
  },
  {
   "cell_type": "code",
   "execution_count": 52,
   "metadata": {},
   "outputs": [],
   "source": [
    "ps_labels = ps_model.fit_predict(ps_df)"
   ]
  },
  {
   "cell_type": "code",
   "execution_count": 53,
   "metadata": {},
   "outputs": [],
   "source": [
    "clusters_4 = clusters + [\"Cluster 4\"]"
   ]
  },
  {
   "cell_type": "code",
   "execution_count": 54,
   "metadata": {},
   "outputs": [],
   "source": [
    "ps_clusters = [clusters_4[i] for i in ps_labels]"
   ]
  },
  {
   "cell_type": "code",
   "execution_count": 55,
   "metadata": {},
   "outputs": [],
   "source": [
    "ps_tab_df = pd.DataFrame({'labels': ps_labels, 'clusters': ps_clusters})"
   ]
  },
  {
   "cell_type": "code",
   "execution_count": 56,
   "metadata": {},
   "outputs": [
    {
     "data": {
      "text/html": [
       "<div>\n",
       "<style scoped>\n",
       "    .dataframe tbody tr th:only-of-type {\n",
       "        vertical-align: middle;\n",
       "    }\n",
       "\n",
       "    .dataframe tbody tr th {\n",
       "        vertical-align: top;\n",
       "    }\n",
       "\n",
       "    .dataframe thead th {\n",
       "        text-align: right;\n",
       "    }\n",
       "</style>\n",
       "<table border=\"1\" class=\"dataframe\">\n",
       "  <thead>\n",
       "    <tr style=\"text-align: right;\">\n",
       "      <th>clusters</th>\n",
       "      <th>Cluster 1</th>\n",
       "      <th>Cluster 2</th>\n",
       "      <th>Cluster 3</th>\n",
       "      <th>Cluster 4</th>\n",
       "    </tr>\n",
       "    <tr>\n",
       "      <th>labels</th>\n",
       "      <th></th>\n",
       "      <th></th>\n",
       "      <th></th>\n",
       "      <th></th>\n",
       "    </tr>\n",
       "  </thead>\n",
       "  <tbody>\n",
       "    <tr>\n",
       "      <th>0</th>\n",
       "      <td>544</td>\n",
       "      <td>0</td>\n",
       "      <td>0</td>\n",
       "      <td>0</td>\n",
       "    </tr>\n",
       "    <tr>\n",
       "      <th>1</th>\n",
       "      <td>0</td>\n",
       "      <td>240</td>\n",
       "      <td>0</td>\n",
       "      <td>0</td>\n",
       "    </tr>\n",
       "    <tr>\n",
       "      <th>2</th>\n",
       "      <td>0</td>\n",
       "      <td>0</td>\n",
       "      <td>1049</td>\n",
       "      <td>0</td>\n",
       "    </tr>\n",
       "    <tr>\n",
       "      <th>3</th>\n",
       "      <td>0</td>\n",
       "      <td>0</td>\n",
       "      <td>0</td>\n",
       "      <td>372</td>\n",
       "    </tr>\n",
       "  </tbody>\n",
       "</table>\n",
       "</div>"
      ],
      "text/plain": [
       "clusters  Cluster 1  Cluster 2  Cluster 3  Cluster 4\n",
       "labels                                              \n",
       "0               544          0          0          0\n",
       "1                 0        240          0          0\n",
       "2                 0          0       1049          0\n",
       "3                 0          0          0        372"
      ]
     },
     "execution_count": 56,
     "metadata": {},
     "output_type": "execute_result"
    }
   ],
   "source": [
    "pd.crosstab(ps_tab_df['labels'], ps_tab_df['clusters'])"
   ]
  }
 ],
 "metadata": {
  "kernelspec": {
   "display_name": "Python 3",
   "language": "python",
   "name": "python3"
  },
  "language_info": {
   "codemirror_mode": {
    "name": "ipython",
    "version": 3
   },
   "file_extension": ".py",
   "mimetype": "text/x-python",
   "name": "python",
   "nbconvert_exporter": "python",
   "pygments_lexer": "ipython3",
   "version": "3.5.2"
  }
 },
 "nbformat": 4,
 "nbformat_minor": 2
}
