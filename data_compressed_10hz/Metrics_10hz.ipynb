{
 "cells": [
  {
   "cell_type": "code",
   "execution_count": 2,
   "metadata": {},
   "outputs": [],
   "source": [
    "import pandas as pd\n",
    "import numpy as np\n",
    "import zipfile\n",
    "import csv\n",
    "import os\n",
    "from sklearn.neighbors import KNeighborsClassifier\n",
    "from sklearn.model_selection import train_test_split\n",
    "from sklearn.preprocessing import LabelEncoder\n",
    "from sklearn.metrics import accuracy_score\n",
    "from sklearn.metrics import confusion_matrix\n",
    "from sklearn.metrics import classification_report\n",
    "\n",
    "\n",
    "teste_list = ['VS1', 'TS1', 'TS2', 'TS3', 'TS4','SE', 'PS1', 'PS2', 'PS3', 'PS4', 'PS5',\n",
    "              'PS6', 'EPS1', 'CP']\n",
    "\n",
    "teste_list = [s + '_normalized.csv' for s in teste_list]\n",
    "\n",
    "new_df = {}\n",
    "master_df = pd.DataFrame()\n",
    "\n",
    "# This code is for the normalized data\n",
    "for key in teste_list:\n",
    "        df = pd.read_table(key, header=None)\n",
    "        master_df = pd.concat([master_df, df], axis=1)"
   ]
  },
  {
   "cell_type": "code",
   "execution_count": 3,
   "metadata": {},
   "outputs": [
    {
     "name": "stdout",
     "output_type": "stream",
     "text": [
      "0.8806646525679759\n"
     ]
    }
   ],
   "source": [
    "target_df = pd.read_table('profile.csv', header=None)\n",
    "target_df = target_df.drop([1,2,3,4], axis=1)\n",
    "\n",
    "x_train, x_test, y_train, y_test = train_test_split(master_df, target_df, test_size=0.3, random_state=42)\n",
    "knn = KNeighborsClassifier(n_neighbors=4)\n",
    "\n",
    "knn.fit(x_train, y_train.values.ravel())\n",
    "print(knn.score(x_test, y_test))"
   ]
  },
  {
   "cell_type": "code",
   "execution_count": 4,
   "metadata": {},
   "outputs": [
    {
     "name": "stdout",
     "output_type": "stream",
     "text": [
      "confusion matrix treino\n",
      " [[501   1   0]\n",
      " [ 87 435   0]\n",
      " [  0  34 485]] \n",
      "\n",
      "confusion matrix teste\n",
      " [[230   0   0]\n",
      " [ 50 160   0]\n",
      " [  0  29 193]] \n",
      "\n"
     ]
    }
   ],
   "source": [
    "pred = knn.predict(x_test)\n",
    "y_train_pred = knn.predict(x_train)\n",
    "cm_train = confusion_matrix(y_train, y_train_pred)\n",
    "cm_test = confusion_matrix(y_test, pred)\n",
    "print('confusion matrix treino\\n',cm_train,'\\n')\n",
    "print('confusion matrix teste\\n', cm_test,'\\n')"
   ]
  },
  {
   "cell_type": "code",
   "execution_count": 5,
   "metadata": {},
   "outputs": [
    {
     "name": "stdout",
     "output_type": "stream",
     "text": [
      "Classification report treino\n",
      "              precision    recall  f1-score   support\n",
      "\n",
      "          3       0.85      1.00      0.92       502\n",
      "         20       0.93      0.83      0.88       522\n",
      "        100       1.00      0.93      0.97       519\n",
      "\n",
      "avg / total       0.93      0.92      0.92      1543\n",
      " \n",
      "\n",
      "Classification report teste\n",
      "              precision    recall  f1-score   support\n",
      "\n",
      "          3       0.82      1.00      0.90       230\n",
      "         20       0.85      0.76      0.80       210\n",
      "        100       1.00      0.87      0.93       222\n",
      "\n",
      "avg / total       0.89      0.88      0.88       662\n",
      " \n",
      "\n"
     ]
    }
   ],
   "source": [
    "print('Classification report treino\\n',classification_report(y_train, y_train_pred),'\\n')\n",
    "print('Classification report teste\\n',classification_report(y_test, pred),'\\n')"
   ]
  },
  {
   "cell_type": "code",
   "execution_count": 1,
   "metadata": {},
   "outputs": [
    {
     "name": "stdout",
     "output_type": "stream",
     "text": [
      "0.8806646525679759\n",
      "confusion matrix teste\n",
      " [[230   0   0]\n",
      " [ 50 160   0]\n",
      " [  0  29 193]] \n",
      "\n",
      "confusion matrix treino\n",
      " [[501   1   0]\n",
      " [ 87 435   0]\n",
      " [  0  34 485]] \n",
      "\n",
      "             precision    recall  f1-score   support\n",
      "\n",
      "          3       0.82      1.00      0.90       230\n",
      "         20       0.85      0.76      0.80       210\n",
      "        100       1.00      0.87      0.93       222\n",
      "\n",
      "avg / total       0.89      0.88      0.88       662\n",
      " \n",
      "\n",
      "Programa executado em  48.09428869600015 segundos\n",
      "\n"
     ]
    }
   ],
   "source": [
    "import pandas as pd\n",
    "import numpy as np\n",
    "import zipfile\n",
    "import csv\n",
    "import os\n",
    "from sklearn.neighbors import KNeighborsClassifier\n",
    "from sklearn.model_selection import train_test_split\n",
    "from sklearn.preprocessing import LabelEncoder\n",
    "from sklearn.metrics import accuracy_score\n",
    "from sklearn.metrics import confusion_matrix\n",
    "from sklearn.metrics import classification_report\n",
    "import timeit\n",
    "\n",
    "start = timeit.default_timer()\n",
    "\n",
    "\n",
    "teste_list = ['VS1', 'TS1', 'TS2', 'TS3', 'TS4','SE', 'PS1', 'PS2', 'PS3', 'PS4', 'PS5',\n",
    "              'PS6', 'EPS1', 'CP']\n",
    "\n",
    "teste_list = [s + '_normalized.csv' for s in teste_list]\n",
    "\n",
    "new_df = {}\n",
    "master_df = pd.DataFrame()\n",
    "\n",
    "# This code is for the normalized data\n",
    "for key in teste_list:\n",
    "        df = pd.read_table(key, header=None)\n",
    "        master_df = pd.concat([master_df, df], axis=1)\n",
    "\n",
    "target_df = pd.read_table('profile.csv', header=None)\n",
    "target_df = target_df.drop([1,2,3,4], axis=1)\n",
    "\n",
    "x_train, x_test, y_train, y_test = train_test_split(master_df, target_df, test_size=0.3, random_state=42)\n",
    "knn = KNeighborsClassifier(n_neighbors=4)\n",
    "\n",
    "knn.fit(x_train, y_train.values.ravel())\n",
    "print(knn.score(x_test, y_test))\n",
    "pred = knn.predict(x_test)\n",
    "y_train_pred = knn.predict(x_train)\n",
    "cm_train = confusion_matrix(y_train, y_train_pred)\n",
    "cm_test = confusion_matrix(y_test, pred)\n",
    "print('confusion matrix teste\\n', cm_test,'\\n')\n",
    "print('confusion matrix treino\\n',cm_train,'\\n')\n",
    "print(classification_report(y_test, pred),'\\n')\n",
    "stop = timeit.default_timer()\n",
    "\n",
    "print('Programa executado em ',stop - start,'segundos\\n')"
   ]
  }
 ],
 "metadata": {
  "kernelspec": {
   "display_name": "Python 3",
   "language": "python",
   "name": "python3"
  },
  "language_info": {
   "codemirror_mode": {
    "name": "ipython",
    "version": 3
   },
   "file_extension": ".py",
   "mimetype": "text/x-python",
   "name": "python",
   "nbconvert_exporter": "python",
   "pygments_lexer": "ipython3",
   "version": "3.6.5"
  }
 },
 "nbformat": 4,
 "nbformat_minor": 2
}
