{
 "cells": [
  {
   "cell_type": "code",
   "execution_count": 3,
   "metadata": {},
   "outputs": [],
   "source": [
    "import pandas as pd\n",
    "import numpy as np\n",
    "import zipfile\n",
    "import csv\n",
    "\n",
    "list_100 = ['PS1', 'PS2', 'PS3', 'PS4', 'PS5',\n",
    "            'PS6', 'EPS1']\n",
    "list_10 = ['FS1', 'FS2']\n",
    "\n",
    "list_100 = [s + '.txt' for s in list_100]\n",
    "list_10 = [s + '.txt' for s in list_10]"
   ]
  },
  {
   "cell_type": "markdown",
   "metadata": {},
   "source": [
    "Primeiramente, realiza-se os imports necessários para gerar os dados comprimidos. A lista de 100 compreende todos os sensores com a frequência natural de 100 Hz.\n",
    "\n",
    "A lista de 10, de forma análoga, compreende os sensores com a frequência natural de 10 Hz."
   ]
  },
  {
   "cell_type": "code",
   "execution_count": 4,
   "metadata": {},
   "outputs": [],
   "source": [
    "master_df = pd.DataFrame()\n",
    "for key in list_100:\n",
    "    new_file = open(key.replace('.txt', '') + '_normalized.csv', \"w\")\n",
    "    writer = csv.writer(new_file, delimiter='\\t')\n",
    "    with zipfile.ZipFile('data.zip') as myzip:\n",
    "        with myzip.open(key) as myfile:\n",
    "            df = pd.read_table(myfile, header=None)\n",
    "\n",
    "            for i in range(2205):\n",
    "                row = df.loc[i, :].values.tolist()\n",
    "                definite_row = []\n",
    "                sum = 0\n",
    "\n",
    "                for x, y in enumerate(row):\n",
    "                    if x == 0:\n",
    "                        sum += y\n",
    "                    elif x == len(row)-1:\n",
    "                        sum += y\n",
    "                        definite_row.append(sum/2)\n",
    "                    elif x % 2 != 0:\n",
    "                        sum += y\n",
    "                    else:\n",
    "                        definite_row.append(sum/2)\n",
    "                        sum = 0\n",
    "                        sum += y\n",
    "\n",
    "                writer.writerow(definite_row)\n",
    "                del definite_row[:]\n",
    "            "
   ]
  },
  {
   "cell_type": "markdown",
   "metadata": {},
   "source": [
    "Nessas linhas, itera-se sobre as listas de 100 e em todas as linhas, pega-se os valores das colunas e a cada 2 valores, tira-se a média dos mesmos e escreve esse novo valor em um novo arquivo.\n",
    "\n",
    "Basicamente, o que isso faz é reduzir pela metade todos os dados gerados por esses sensores. A média serve para manter uma coerência com o dado final."
   ]
  },
  {
   "cell_type": "code",
   "execution_count": 5,
   "metadata": {},
   "outputs": [],
   "source": [
    "for key in list_10:\n",
    "    new_file = open(key.replace('.txt', '') + '_normalized.csv', \"w\")\n",
    "    writer = csv.writer(new_file, delimiter='\\t')\n",
    "    with zipfile.ZipFile('data.zip') as myzip:\n",
    "        with myzip.open(key) as myfile:\n",
    "            df = pd.read_table(myfile, header=None)\n",
    "\n",
    "            # df.to_csv(header=None, index=None)\n",
    "            for i in range(2205):\n",
    "                row = df.loc[i, :].values.tolist()\n",
    "                definite_row = []\n",
    "                sum = 0\n",
    "\n",
    "                for x, y in enumerate(row):\n",
    "                    definite_row.append(y)\n",
    "\n",
    "\n",
    "\n",
    "            writer.writerow(definite_row)\n",
    "            del definite_row[:]\n"
   ]
  },
  {
   "cell_type": "markdown",
   "metadata": {},
   "source": [
    "Nessas linhas, utilizava-se do mesmo princípio para comprimir os dados gerados pelos sensores de 10 Hz. Porém, depois de cuidadosa interpretação, decidiu-se apenas por replicar os dados de entrada para outros arquivos de saída."
   ]
  }
 ],
 "metadata": {
  "kernelspec": {
   "display_name": "Python 3",
   "language": "python",
   "name": "python3"
  },
  "language_info": {
   "codemirror_mode": {
    "name": "ipython",
    "version": 3
   },
   "file_extension": ".py",
   "mimetype": "text/x-python",
   "name": "python",
   "nbconvert_exporter": "python",
   "pygments_lexer": "ipython3",
   "version": "3.6.5"
  }
 },
 "nbformat": 4,
 "nbformat_minor": 2
}
